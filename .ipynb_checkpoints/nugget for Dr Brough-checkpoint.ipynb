{
 "cells": [
  {
   "cell_type": "code",
   "execution_count": 10,
   "metadata": {},
   "outputs": [
    {
     "name": "stdout",
     "output_type": "stream",
     "text": [
      "the highest number of nugget that you can not purchase is 43\n"
     ]
    }
   ],
   "source": [
    "def is_nugget_number(target, small=6, medium=9, large=20):\n",
    "    for i in range(target// small + 1):\n",
    "        for j in range(target// medium + 1):\n",
    "            for k in range(target// large + 1):\n",
    "                if (small * i + medium * j + large * k == target):\n",
    "                    return True\n",
    "\n",
    "    return False\n",
    "\n",
    "\n",
    "\n",
    "def main():\n",
    "#is a given number a nugget number?\n",
    "    small = 6\n",
    "# Keep track of how many candidates in a row are nuggest numbers\n",
    "    count = 0\n",
    "    largest = small - 1\n",
    "    target= small\n",
    "\n",
    "    while count != small:\n",
    "        if is_nugget_number(target):\n",
    "            count += 1\n",
    "        else:\n",
    "            largest = target\n",
    "            count = 0\n",
    "        target += 1\n",
    "    print(\"the highest number of nugget that you can not purchase is\",largest)\n",
    "    \n",
    "\n",
    "\n",
    "\n",
    "\n",
    "main()"
   ]
  },
  {
   "cell_type": "code",
   "execution_count": 5,
   "metadata": {},
   "outputs": [
    {
     "data": {
      "text/plain": [
       "3"
      ]
     },
     "execution_count": 5,
     "metadata": {},
     "output_type": "execute_result"
    }
   ],
   "source": [
    "7//2"
   ]
  },
  {
   "cell_type": "code",
   "execution_count": 9,
   "metadata": {},
   "outputs": [
    {
     "data": {
      "text/plain": [
       "3"
      ]
     },
     "execution_count": 9,
     "metadata": {},
     "output_type": "execute_result"
    }
   ],
   "source": [
    "5//2+1"
   ]
  }
 ],
 "metadata": {
  "kernelspec": {
   "display_name": "Python 3",
   "language": "python",
   "name": "python3"
  },
  "language_info": {
   "codemirror_mode": {
    "name": "ipython",
    "version": 3
   },
   "file_extension": ".py",
   "mimetype": "text/x-python",
   "name": "python",
   "nbconvert_exporter": "python",
   "pygments_lexer": "ipython3",
   "version": "3.6.5"
  }
 },
 "nbformat": 4,
 "nbformat_minor": 2
}
