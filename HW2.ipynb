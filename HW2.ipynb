{
 "cells": [
  {
   "cell_type": "code",
   "execution_count": null,
   "metadata": {},
   "outputs": [],
   "source": [
    "##HW 2"
   ]
  },
  {
   "cell_type": "code",
   "execution_count": 4,
   "metadata": {},
   "outputs": [
    {
     "name": "stdout",
     "output_type": "stream",
     "text": [
      "(0.08, 0.5)\n",
      "(1.3, 0.8)\n",
      "(25.0, 0.0)\n"
     ]
    },
    {
     "data": {
      "text/plain": [
       "11.568422433907074"
      ]
     },
     "execution_count": 4,
     "metadata": {},
     "output_type": "execute_result"
    }
   ],
   "source": [
    "#Problem 1\n",
    "import numpy as np\n",
    "\n",
    "def callPayoff(spot, strike):\n",
    "    return np.maximum(spot - strike, 0.0)\n",
    "def putPayoff(spot, strike):\n",
    "    return np.maximum(strike - spot, 0.0)\n",
    "\n",
    "    \n",
    "r = 0.08\n",
    "v = 0.3\n",
    "q = 0\n",
    "expiry = 0.5\n",
    "n = 1\n",
    "h = expiry / n\n",
    "S = 100\n",
    "K = 105\n",
    "print ((r, h))\n",
    "\n",
    "u = 1.3\n",
    "d = 0.8\n",
    "print ((u, d))\n",
    "fu = callPayoff(u * S, K)\n",
    "fd = callPayoff(d * S, K)\n",
    "print ((fu, fd))\n",
    "D = (fu - fd)/(S * (u - d))                        \n",
    "B = np.exp(-r * h) * ((u * fd - d * fu)/ (u - d))   \n",
    "f = S * D + B\n",
    "f"
   ]
  },
  {
   "cell_type": "code",
   "execution_count": 6,
   "metadata": {},
   "outputs": [
    {
     "data": {
      "text/plain": [
       "0.5"
      ]
     },
     "execution_count": 6,
     "metadata": {},
     "output_type": "execute_result"
    }
   ],
   "source": [
    "D"
   ]
  },
  {
   "cell_type": "code",
   "execution_count": 8,
   "metadata": {},
   "outputs": [
    {
     "data": {
      "text/plain": [
       "-38.431577566092926"
      ]
     },
     "execution_count": 8,
     "metadata": {},
     "output_type": "execute_result"
    }
   ],
   "source": [
    "B"
   ]
  },
  {
   "cell_type": "code",
   "execution_count": null,
   "metadata": {},
   "outputs": [],
   "source": [
    "\n"
   ]
  },
  {
   "cell_type": "code",
   "execution_count": 9,
   "metadata": {},
   "outputs": [
    {
     "data": {
      "text/plain": [
       "12.451313544901005"
      ]
     },
     "execution_count": 9,
     "metadata": {},
     "output_type": "execute_result"
    }
   ],
   "source": [
    "fu = putPayoff(u * S, K)\n",
    "fd = putPayoff(d * S, K)\n",
    "D = (fu - fd)/(S * (u - d))                        \n",
    "B = np.exp(-r * h) * ((u * fd - d * fu)/ (u - d))   \n",
    "f = S * D + B\n",
    "f"
   ]
  },
  {
   "cell_type": "code",
   "execution_count": 10,
   "metadata": {},
   "outputs": [
    {
     "data": {
      "text/plain": [
       "-0.5"
      ]
     },
     "execution_count": 10,
     "metadata": {},
     "output_type": "execute_result"
    }
   ],
   "source": [
    "D"
   ]
  },
  {
   "cell_type": "code",
   "execution_count": 11,
   "metadata": {},
   "outputs": [
    {
     "data": {
      "text/plain": [
       "62.451313544901005"
      ]
     },
     "execution_count": 11,
     "metadata": {},
     "output_type": "execute_result"
    }
   ],
   "source": [
    "B"
   ]
  },
  {
   "cell_type": "code",
   "execution_count": 12,
   "metadata": {},
   "outputs": [],
   "source": [
    "#problem 2"
   ]
  },
  {
   "cell_type": "code",
   "execution_count": 21,
   "metadata": {},
   "outputs": [
    {
     "name": "stdout",
     "output_type": "stream",
     "text": [
      "(0.08, 0.5)\n",
      "(1.3, 0.8)\n",
      "(0.0, 15.0)\n"
     ]
    },
    {
     "data": {
      "text/plain": [
       "7.4707881269406045"
      ]
     },
     "execution_count": 21,
     "metadata": {},
     "output_type": "execute_result"
    }
   ],
   "source": [
    "r = 0.08\n",
    "v = 0.3\n",
    "q = 0\n",
    "expiry = 0.5\n",
    "n = 1\n",
    "h = expiry / n\n",
    "S = 100\n",
    "K = 95\n",
    "\n",
    "print ((r, h))\n",
    "\n",
    "u = 1.3\n",
    "d = 0.8\n",
    "print ((u, d))\n",
    "fu = putPayoff(u * S, K)\n",
    "fd = putPayoff(d * S, K)\n",
    "print((fu, fd))\n",
    "D = (fu - fd)/(S * (u - d))                        \n",
    "B = np.exp(-r * h) * ((u * fd - d * fu)/ (u - d))   \n",
    "f = S * D + B\n",
    "f"
   ]
  },
  {
   "cell_type": "code",
   "execution_count": 15,
   "metadata": {},
   "outputs": [
    {
     "data": {
      "text/plain": [
       "-0.5"
      ]
     },
     "execution_count": 15,
     "metadata": {},
     "output_type": "execute_result"
    }
   ],
   "source": [
    "D"
   ]
  },
  {
   "cell_type": "code",
   "execution_count": 22,
   "metadata": {},
   "outputs": [
    {
     "data": {
      "text/plain": [
       "37.470788126940604"
      ]
     },
     "execution_count": 22,
     "metadata": {},
     "output_type": "execute_result"
    }
   ],
   "source": [
    "B"
   ]
  },
  {
   "cell_type": "code",
   "execution_count": 45,
   "metadata": {},
   "outputs": [
    {
     "name": "stdout",
     "output_type": "stream",
     "text": [
      "(0.08, 0.3333333333333333)\n",
      "(1.3, 0.8)\n",
      "(35.0, 0.0)\n"
     ]
    },
    {
     "data": {
      "text/plain": [
       "15.473598036223876"
      ]
     },
     "execution_count": 45,
     "metadata": {},
     "output_type": "execute_result"
    }
   ],
   "source": [
    "#for premium of european call\n",
    "\n",
    "print ((r, h))\n",
    "\n",
    "u = 1.3\n",
    "d = 0.8\n",
    "print ((u, d))\n",
    "fu = callPayoff(u * S, K)\n",
    "fd = callPayoff(d * S, K)\n",
    "print((fu, fd))\n",
    "D = (fu - fd)/(S * (u - d))                        \n",
    "B = np.exp(-r * h) * ((u * fd - d * fu)/ (u - d))   \n",
    "f = S * D + B\n",
    "f"
   ]
  },
  {
   "cell_type": "code",
   "execution_count": null,
   "metadata": {},
   "outputs": [],
   "source": [
    "#for call price of $17, C> D*S+B,the arbitrage is $17 - $15.473 = $1.527\n",
    "#for call price of $15.50, C> D*S+B the arbitrage is $15.50 - $15.473 = $0.027"
   ]
  },
  {
   "cell_type": "code",
   "execution_count": 34,
   "metadata": {},
   "outputs": [],
   "source": [
    "#problem 3\n",
    "r = 0.08\n",
    "v = 0.3\n",
    "q = 0\n",
    "expiry = 1\n",
    "n = 2\n",
    "h = expiry / n\n",
    "S = 100\n",
    "K = 95\n",
    "from scipy.stats import binom\n",
    "def binomialPricer(S, K, r, v, q, T, n, callPayoff, verbose = True):\n",
    "    nodes = n  + 1\n",
    "    h = T / n\n",
    "    u = 1.3\n",
    "    d = 0.8\n",
    "    pstar = (np.exp((r - q) * h) - d) / (u - d)\n",
    "    \n",
    "    price = 0.0\n",
    "    \n",
    "    for i in range(nodes):\n",
    "        prob = binom.pmf(i, n, pstar)\n",
    "        spotT = S * (u ** i) * (d ** (n - i))\n",
    "        po = callPayoff(spotT, K) \n",
    "        price += po * prob\n",
    "        if verbose:\n",
    "            print(f\"({spotT:0.4f}, {po:0.4f}, {prob:0.4f})\")\n",
    "        \n",
    "    price *= np.exp(-r * T)\n",
    "    \n",
    "    return price"
   ]
  },
  {
   "cell_type": "code",
   "execution_count": 35,
   "metadata": {},
   "outputs": [
    {
     "name": "stdout",
     "output_type": "stream",
     "text": [
      "(64.0000, 0.0000, 0.2687)\n",
      "(104.0000, 9.0000, 0.4993)\n",
      "(169.0000, 74.0000, 0.2320)\n"
     ]
    },
    {
     "data": {
      "text/plain": [
       "19.993693459343987"
      ]
     },
     "execution_count": 35,
     "metadata": {},
     "output_type": "execute_result"
    }
   ],
   "source": [
    "binomialPricer(S, K, r, v, q, expiry, n, callPayoff)"
   ]
  },
  {
   "cell_type": "code",
   "execution_count": 40,
   "metadata": {},
   "outputs": [
    {
     "name": "stdout",
     "output_type": "stream",
     "text": [
      "(1.3, 0.8)\n",
      "(74.0, 9.0)\n",
      "(1.0, -91.2749967194707)\n"
     ]
    },
    {
     "data": {
      "text/plain": [
       "38.72500328052929"
      ]
     },
     "execution_count": 40,
     "metadata": {},
     "output_type": "execute_result"
    }
   ],
   "source": [
    "#upper node\n",
    "r = 0.08\n",
    "v = 0.3\n",
    "q = 0\n",
    "expiry = 1\n",
    "n = 2\n",
    "h = expiry / n\n",
    "S = 130\n",
    "K = 95\n",
    "u = 1.3\n",
    "d = 0.8\n",
    "print ((u, d))\n",
    "fu = callPayoff(u * S, K)\n",
    "fd = callPayoff(d * S, K)\n",
    "print((fu, fd))\n",
    "D = (fu - fd)/(S * (u - d))                        \n",
    "B = np.exp(-r * h) * ((u * fd - d * fu)/ (u - d))   \n",
    "print((D, B))\n",
    "f = S * D + B\n",
    "f"
   ]
  },
  {
   "cell_type": "code",
   "execution_count": 41,
   "metadata": {},
   "outputs": [
    {
     "name": "stdout",
     "output_type": "stream",
     "text": [
      "(1.3, 0.8)\n",
      "(9.0, 0.0)\n",
      "(0.225, -13.835367923793454)\n"
     ]
    },
    {
     "data": {
      "text/plain": [
       "4.164632076206546"
      ]
     },
     "execution_count": 41,
     "metadata": {},
     "output_type": "execute_result"
    }
   ],
   "source": [
    "#lower node\n",
    "r = 0.08\n",
    "v = 0.3\n",
    "q = 0\n",
    "expiry = 1\n",
    "n = 2\n",
    "h = expiry / n\n",
    "S = 80\n",
    "K = 95\n",
    "u = 1.3\n",
    "d = 0.8\n",
    "print ((u, d))\n",
    "fu = callPayoff(u * S, K)\n",
    "fd = callPayoff(d * S, K)\n",
    "print((fu, fd))\n",
    "D = (fu - fd)/(S * (u - d))                        \n",
    "B = np.exp(-r * h) * ((u * fd - d * fu)/ (u - d))   \n",
    "print((D, B))\n",
    "f = S * D + B\n",
    "f"
   ]
  },
  {
   "cell_type": "code",
   "execution_count": 43,
   "metadata": {},
   "outputs": [
    {
     "name": "stdout",
     "output_type": "stream",
     "text": [
      "(1.3, 0.8)\n",
      "(38.725, 4.1646)\n",
      "(0.691208, -49.12712403431416)\n"
     ]
    },
    {
     "data": {
      "text/plain": [
       "19.993675965685846"
      ]
     },
     "execution_count": 43,
     "metadata": {},
     "output_type": "execute_result"
    }
   ],
   "source": [
    "#main node\n",
    "r = 0.08\n",
    "v = 0.3\n",
    "q = 0\n",
    "expiry = 1\n",
    "n = 2\n",
    "h = expiry / n\n",
    "S = 100\n",
    "K = 95\n",
    "u = 1.3\n",
    "d = 0.8\n",
    "print ((u, d))\n",
    "fu = 38.725\n",
    "fd = 4.1646\n",
    "print((fu, fd))\n",
    "D = (fu - fd)/(S * (u - d))                        \n",
    "B = np.exp(-r * h) * ((u * fd - d * fu)/ (u - d))   \n",
    "print((D, B))\n",
    "f = S * D + B\n",
    "f"
   ]
  },
  {
   "cell_type": "code",
   "execution_count": 63,
   "metadata": {},
   "outputs": [],
   "source": [
    "#problem 4\n",
    "#When S = 80\n",
    "r = 0.08\n",
    "v = 0.3\n",
    "q = 0\n",
    "expiry = 1\n",
    "n = 2\n",
    "h = expiry / n\n",
    "S = 80\n",
    "K = 95\n",
    "u = 1.3\n",
    "d = 0.8\n",
    "def euroBinomPricerRecursiveMatrix(S, K, r, v, q, T, n, payoff, verbose = True):\n",
    "    nodes = n  + 1\n",
    "    h = T / n\n",
    "    u = np.exp((r - q) * h + v * np.sqrt(h))\n",
    "    d = np.exp((r - q) * h - v * np.sqrt(h))\n",
    "    pu = (np.exp((r - q) * h) - d) / (u - d)\n",
    "    pd = 1.0 - pu\n",
    "    disc = np.exp(-r * h)\n",
    "    \n",
    "    ## Arrays to store the spot prices and option values\n",
    "    Ct = np.zeros((nodes, n+1))\n",
    "    St = np.zeros((nodes, n+1))\n",
    "    Dt = np.zeros((nodes, n+1))\n",
    "    \n",
    "    for i in range(nodes):\n",
    "        St[i, n] = S * (u**(n-i)) * (d**i)\n",
    "        Ct[i, n] = payoff(St[i, n], K)\n",
    "    \n",
    "\n",
    "    for t in range((n-1), -1, -1):\n",
    "        for j in range(t+1):\n",
    "            St[j, t] = St[j, t+1] / u\n",
    "            Ct[j, t] = disc * ((pu * Ct[j, t+1]) + (pd * Ct[j+1, t+1]))\n",
    "            Dt[j, t] = np.exp(-q * h) * (Ct[j, t+1] - Ct[j+1, t+1]) / (St[j, t] * (u - d))\n",
    "        \n",
    "    if verbose:\n",
    "        print(np.around(St, 3))\n",
    "        print(\"\\n\")\n",
    "        print(np.around(Ct, 3))\n",
    "        print(\"\\n\")\n",
    "        print(np.around(Dt, 3))\n",
    "        print(\"\\n\")\n",
    "                    \n",
    "            \n",
    "    return Ct[0,0]\n"
   ]
  },
  {
   "cell_type": "code",
   "execution_count": 64,
   "metadata": {},
   "outputs": [
    {
     "name": "stdout",
     "output_type": "stream",
     "text": [
      "[[ 80.    102.941 132.461]\n",
      " [  0.     67.349  86.663]\n",
      " [  0.      0.     56.699]]\n",
      "\n",
      "\n",
      "[[ 6.915 16.095 37.461]\n",
      " [ 0.     0.     0.   ]\n",
      " [ 0.     0.     0.   ]]\n",
      "\n",
      "\n",
      "[[0.452 0.818 0.   ]\n",
      " [0.    0.    0.   ]\n",
      " [0.    0.    0.   ]]\n",
      "\n",
      "\n"
     ]
    }
   ],
   "source": [
    "callPrc = euroBinomPricerRecursiveMatrix(S, K, r, v, q, T, n, callPayoff, verbose = True)"
   ]
  },
  {
   "cell_type": "code",
   "execution_count": 65,
   "metadata": {},
   "outputs": [
    {
     "name": "stdout",
     "output_type": "stream",
     "text": [
      "[[ 90.    115.809 149.019]\n",
      " [  0.     75.768  97.496]\n",
      " [  0.      0.     63.787]]\n",
      "\n",
      "\n",
      "[[11.11  24.534 54.019]\n",
      " [ 0.     1.072  2.496]\n",
      " [ 0.     0.     0.   ]]\n",
      "\n",
      "\n",
      "[[0.586 1.    0.   ]\n",
      " [0.    0.074 0.   ]\n",
      " [0.    0.    0.   ]]\n",
      "\n",
      "\n"
     ]
    }
   ],
   "source": [
    "# When S = 90\n",
    "S = 90\n",
    "callPrc = euroBinomPricerRecursiveMatrix(S, K, r, v, q, T, n, callPayoff, verbose = True)"
   ]
  },
  {
   "cell_type": "code",
   "execution_count": 66,
   "metadata": {},
   "outputs": [
    {
     "name": "stdout",
     "output_type": "stream",
     "text": [
      "[[110.    141.544 182.134]\n",
      " [  0.     92.605 119.162]\n",
      " [  0.      0.     77.962]]\n",
      "\n",
      "\n",
      "[[27.111 50.269 87.134]\n",
      " [ 0.    10.381 24.162]\n",
      " [ 0.     0.     0.   ]]\n",
      "\n",
      "\n",
      "[[0.815 1.    0.   ]\n",
      " [0.    0.586 0.   ]\n",
      " [0.    0.    0.   ]]\n",
      "\n",
      "\n"
     ]
    }
   ],
   "source": [
    "# When S = 110\n",
    "S = 110\n",
    "callPrc = euroBinomPricerRecursiveMatrix(S, K, r, v, q, T, n, callPayoff, verbose = True)"
   ]
  },
  {
   "cell_type": "code",
   "execution_count": 67,
   "metadata": {},
   "outputs": [
    {
     "name": "stdout",
     "output_type": "stream",
     "text": [
      "[[120.    154.412 198.692]\n",
      " [  0.    101.024 129.994]\n",
      " [  0.      0.     85.049]]\n",
      "\n",
      "\n",
      "[[ 35.111  63.137 103.692]\n",
      " [  0.     15.035  34.994]\n",
      " [  0.      0.      0.   ]]\n",
      "\n",
      "\n",
      "[[0.901 1.    0.   ]\n",
      " [0.    0.779 0.   ]\n",
      " [0.    0.    0.   ]]\n",
      "\n",
      "\n"
     ]
    }
   ],
   "source": [
    "# When S = 120\n",
    "S = 120\n",
    "callPrc = euroBinomPricerRecursiveMatrix(S, K, r, v, q, T, n, callPayoff, verbose = True)"
   ]
  },
  {
   "cell_type": "code",
   "execution_count": null,
   "metadata": {},
   "outputs": [],
   "source": [
    "# Conclusion, the initial option D increase as the stock price increase. \n"
   ]
  },
  {
   "cell_type": "code",
   "execution_count": 39,
   "metadata": {},
   "outputs": [],
   "source": [
    "#problem 5\n",
    "r = 0.08\n",
    "v = 0.3\n",
    "q = 0\n",
    "T = 1\n",
    "n = 3\n",
    "h = T / n\n",
    "S = 100\n",
    "K = 95\n",
    "import numpy as np\n",
    "from scipy.stats import binom\n",
    "def callPayoff(spot, strike):\n",
    "    return np.maximum(spot - strike, 0.0)\n",
    "def putPayoff(spot, strike):\n",
    "    return np.maximum(strike - spot, 0.0)\n",
    "def euroBinomPricerRecursive(S, K, r, v, q, T, n, callPayoff, verbose = True):\n",
    "    nodes = n  + 1\n",
    "    h = T / n\n",
    "    u = np.exp((r - q) * h + v * np.sqrt(h))\n",
    "    d = np.exp((r - q) * h - v * np.sqrt(h))\n",
    "    pu = (np.exp((r - q) * h) - d) / (u - d)\n",
    "    pd = 1.0 - pu\n",
    "    disc = np.exp(-r * h)\n",
    "    \n",
    "    \n",
    "    ## Arrays to store the spot prices and option values\n",
    "    Ct = np.empty(nodes)\n",
    "    St = np.empty(nodes)\n",
    "    \n",
    "    for i in range(nodes):\n",
    "        St[i] = S * (u ** (n - i)) * (d ** i)\n",
    "        Ct[i] = callPayoff(St[i], K)\n",
    "    \n",
    "    if verbose:\n",
    "        print(Ct)\n",
    "        \n",
    "    for t in range((n - 1), -1, -1):\n",
    "        for j in range(t+1):\n",
    "            Ct[j] = disc * (pu * Ct[j] + pd * Ct[j+1])\n",
    "            St[j] = St[j] / u\n",
    "            Ct[j] = np.maximum(Ct[j], St[j] - K)\n",
    "            print(Ct)\n",
    "            \n",
    "    return Ct[0]\n",
    "\n",
    "\n",
    "\n"
   ]
  },
  {
   "cell_type": "code",
   "execution_count": 40,
   "metadata": {},
   "outputs": [
    {
     "name": "stdout",
     "output_type": "stream",
     "text": [
      "[87.1417861 33.8147424  0.         0.       ]\n",
      "[56.64406241 33.8147424   0.          0.        ]\n",
      "[56.64406241 15.04032855  0.          0.        ]\n",
      "[56.64406241 15.04032855  0.          0.        ]\n",
      "[33.14931753 15.04032855  0.          0.        ]\n",
      "[33.14931753  6.6897296   0.          0.        ]\n",
      "[18.28255221  6.6897296   0.          0.        ]\n"
     ]
    },
    {
     "data": {
      "text/plain": [
       "18.28255220737056"
      ]
     },
     "execution_count": 40,
     "metadata": {},
     "output_type": "execute_result"
    }
   ],
   "source": [
    "callPrc = euroBinomPricerRecursive(S, K, r, v, q, T, n, callPayoff, verbose = True)\n",
    "callPrc\n",
    "##There is no early exercise.\n"
   ]
  },
  {
   "cell_type": "code",
   "execution_count": 34,
   "metadata": {},
   "outputs": [],
   "source": [
    "r = 0.08\n",
    "v = 0.3\n",
    "q = 0\n",
    "T = 1\n",
    "n = 3\n",
    "h = T / n\n",
    "S = 100\n",
    "K = 95\n",
    "from scipy.stats import binom\n",
    "def binomialPricer(S, K, r, v, q, T, n, callPayoff, verbose = True):\n",
    "    nodes = n  + 1\n",
    "    h = T / n\n",
    "    u = np.exp((r - q) * h + v * np.sqrt(h))\n",
    "    d = np.exp((r - q) * h - v * np.sqrt(h))\n",
    "    pstar = (np.exp((r - q) * h) - d) / (u - d)\n",
    "    \n",
    "    price = 0.0\n",
    "    \n",
    "    for i in range(nodes):\n",
    "        prob = binom.pmf(i, n, pstar)\n",
    "        spotT = S * (u ** i) * (d ** (n - i))\n",
    "        po = callPayoff(spotT, K) \n",
    "        price += po * prob\n",
    "        if verbose:\n",
    "            print(f\"({spotT:0.4f}, {po:0.4f}, {prob:0.4f})\")\n",
    "        \n",
    "    price *= np.exp(-r * T)\n",
    "    \n",
    "    return price"
   ]
  },
  {
   "cell_type": "code",
   "execution_count": 35,
   "metadata": {},
   "outputs": [
    {
     "name": "stdout",
     "output_type": "stream",
     "text": [
      "(64.4284, 0.0000, 0.1603)\n",
      "(91.1007, 0.0000, 0.4044)\n",
      "(128.8147, 33.8147, 0.3400)\n",
      "(182.1418, 87.1418, 0.0953)\n"
     ]
    },
    {
     "data": {
      "text/plain": [
       "18.282552207370557"
      ]
     },
     "execution_count": 35,
     "metadata": {},
     "output_type": "execute_result"
    }
   ],
   "source": [
    "binomialPricer(S, K, r, v, q, T, n, callPayoff)"
   ]
  },
  {
   "cell_type": "code",
   "execution_count": 36,
   "metadata": {},
   "outputs": [],
   "source": [
    "## The premium for American call option and are identitical with Eruopean put option. \n"
   ]
  },
  {
   "cell_type": "code",
   "execution_count": 37,
   "metadata": {},
   "outputs": [],
   "source": [
    "#Premium for European put\n",
    "r = 0.08\n",
    "v = 0.3\n",
    "q = 0\n",
    "T = 1\n",
    "n = 3\n",
    "h = T / n\n",
    "S = 100\n",
    "K = 95\n",
    "from scipy.stats import binom\n",
    "def binomialPricer(S, K, r, v, q, T, n, putPayoff, verbose = True):\n",
    "    nodes = n  + 1\n",
    "    h = T / n\n",
    "    u = np.exp((r - q) * h + v * np.sqrt(h))\n",
    "    d = np.exp((r - q) * h - v * np.sqrt(h))\n",
    "    pstar = (np.exp((r - q) * h) - d) / (u - d)\n",
    "    \n",
    "    price = 0.0\n",
    "    \n",
    "    for i in range(nodes):\n",
    "        prob = binom.pmf(i, n, pstar)\n",
    "        spotT = S * (u ** i) * (d ** (n - i))\n",
    "        po = putPayoff(spotT, K) \n",
    "        price += po * prob\n",
    "        if verbose:\n",
    "            print(f\"({spotT:0.4f}, {po:0.4f}, {prob:0.4f})\")\n",
    "        \n",
    "    price *= np.exp(-r * T)\n",
    "    \n",
    "    return price"
   ]
  },
  {
   "cell_type": "code",
   "execution_count": 38,
   "metadata": {},
   "outputs": [
    {
     "name": "stdout",
     "output_type": "stream",
     "text": [
      "(64.4284, 30.5716, 0.1603)\n",
      "(91.1007, 3.8993, 0.4044)\n",
      "(128.8147, 0.0000, 0.3400)\n",
      "(182.1418, 0.0000, 0.0953)\n"
     ]
    },
    {
     "data": {
      "text/plain": [
       "5.9786051141009695"
      ]
     },
     "execution_count": 38,
     "metadata": {},
     "output_type": "execute_result"
    }
   ],
   "source": [
    "binomialPricer(S, K, r, v, q, T, n, putPayoff)"
   ]
  },
  {
   "cell_type": "code",
   "execution_count": 42,
   "metadata": {},
   "outputs": [
    {
     "data": {
      "text/plain": [
       "105.05588365361336"
      ]
     },
     "execution_count": 42,
     "metadata": {},
     "output_type": "execute_result"
    }
   ],
   "source": [
    "#For check put-call parity \n",
    "#European call premium = European put premium + S - exp(-0.08*1)\n",
    "5.979 + 100 - np.exp(-0.08*1)"
   ]
  },
  {
   "cell_type": "code",
   "execution_count": 43,
   "metadata": {},
   "outputs": [],
   "source": [
    "#For American put option\n",
    "r = 0.08\n",
    "v = 0.3\n",
    "q = 0\n",
    "T = 1\n",
    "n = 3\n",
    "h = T / n\n",
    "S = 100\n",
    "K = 95\n",
    "import numpy as np\n",
    "from scipy.stats import binom\n",
    "def callPayoff(spot, strike):\n",
    "    return np.maximum(spot - strike, 0.0)\n",
    "def putPayoff(spot, strike):\n",
    "    return np.maximum(strike - spot, 0.0)\n",
    "def euroBinomPricerRecursive(S, K, r, v, q, T, n, putPayoff, verbose = True):\n",
    "    nodes = n  + 1\n",
    "    h = T / n\n",
    "    u = np.exp((r - q) * h + v * np.sqrt(h))\n",
    "    d = np.exp((r - q) * h - v * np.sqrt(h))\n",
    "    pu = (np.exp((r - q) * h) - d) / (u - d)\n",
    "    pd = 1.0 - pu\n",
    "    disc = np.exp(-r * h)\n",
    "    \n",
    "    \n",
    "    ## Arrays to store the spot prices and option values\n",
    "    Ct = np.empty(nodes)\n",
    "    St = np.empty(nodes)\n",
    "    \n",
    "    for i in range(nodes):\n",
    "        St[i] = S * (u ** (n - i)) * (d ** i)\n",
    "        Ct[i] = putPayoff(St[i], K)\n",
    "    \n",
    "    if verbose:\n",
    "        print(Ct)\n",
    "        \n",
    "    for t in range((n - 1), -1, -1):\n",
    "        for j in range(t+1):\n",
    "            Ct[j] = disc * (pu * Ct[j] + pd * Ct[j+1])\n",
    "            St[j] = St[j] / u\n",
    "            Ct[j] = np.maximum(Ct[j], K - St[j])\n",
    "            print(Ct)\n",
    "            \n",
    "    return Ct[0]\n"
   ]
  },
  {
   "cell_type": "code",
   "execution_count": 44,
   "metadata": {},
   "outputs": [
    {
     "name": "stdout",
     "output_type": "stream",
     "text": [
      "[87.1417861 33.8147424  0.         0.       ]\n",
      "[56.64406241 33.8147424   0.          0.        ]\n",
      "[56.64406241 15.04032855  0.          0.        ]\n",
      "[56.64406241 15.04032855 20.40351726  0.        ]\n",
      "[33.14931753 15.04032855 20.40351726  0.        ]\n",
      "[33.14931753 17.48114202 20.40351726  0.        ]\n",
      "[23.99012609 17.48114202 20.40351726  0.        ]\n"
     ]
    },
    {
     "data": {
      "text/plain": [
       "23.990126085672127"
      ]
     },
     "execution_count": 44,
     "metadata": {},
     "output_type": "execute_result"
    }
   ],
   "source": [
    "putPrc = euroBinomPricerRecursive(S, K, r, v, q, T, n, callPayoff, verbose = True)\n",
    "putPrc"
   ]
  },
  {
   "cell_type": "code",
   "execution_count": null,
   "metadata": {},
   "outputs": [],
   "source": [
    "#the premium of American put option is higher that European put option.\n"
   ]
  },
  {
   "cell_type": "code",
   "execution_count": 47,
   "metadata": {},
   "outputs": [
    {
     "data": {
      "text/plain": [
       "(1.1454617381452392, 0.8966038495199921)"
      ]
     },
     "execution_count": 47,
     "metadata": {},
     "output_type": "execute_result"
    }
   ],
   "source": [
    "#problem 6\n",
    "r = 0.08\n",
    "v = 0.3\n",
    "q = 0\n",
    "T = 0.5\n",
    "n = 3\n",
    "h = T / n\n",
    "S = 40\n",
    "K = 40\n",
    "u = np.exp((r - q) * h + v * np.sqrt(h))\n",
    "d = np.exp((r - q) * h - v * np.sqrt(h))\n",
    "(u, d) "
   ]
  },
  {
   "cell_type": "code",
   "execution_count": 49,
   "metadata": {},
   "outputs": [
    {
     "data": {
      "text/plain": [
       "(45.81846952580957, 35.864153980799685)"
      ]
     },
     "execution_count": 49,
     "metadata": {},
     "output_type": "execute_result"
    }
   ],
   "source": [
    "(u*S, S*d) #first node"
   ]
  },
  {
   "cell_type": "code",
   "execution_count": 50,
   "metadata": {},
   "outputs": [
    {
     "data": {
      "text/plain": [
       "(52.48330374218851, 41.081016155955304, 32.15593851896274)"
      ]
     },
     "execution_count": 50,
     "metadata": {},
     "output_type": "execute_result"
    }
   ],
   "source": [
    "(u**2*S, u*d*S, d**2*S) #second node"
   ]
  },
  {
   "cell_type": "code",
   "execution_count": 51,
   "metadata": {},
   "outputs": [
    {
     "data": {
      "text/plain": [
       "(60.117616328131774, 47.05673217077322, 36.83339722762251, 28.831138261030187)"
      ]
     },
     "execution_count": 51,
     "metadata": {},
     "output_type": "execute_result"
    }
   ],
   "source": [
    "(u**3*S, u**2*d*S, d**2*u*S, d**3*S) #third node"
   ]
  },
  {
   "cell_type": "code",
   "execution_count": 52,
   "metadata": {},
   "outputs": [],
   "source": [
    "#for american calls\n",
    "r = 0.08\n",
    "v = 0.3\n",
    "q = 0\n",
    "T = 1\n",
    "n = 3\n",
    "h = T / n\n",
    "S = 40\n",
    "K = 40\n",
    "import numpy as np\n",
    "from scipy.stats import binom\n",
    "def callPayoff(spot, strike):\n",
    "    return np.maximum(spot - strike, 0.0)\n",
    "def putPayoff(spot, strike):\n",
    "    return np.maximum(strike - spot, 0.0)\n",
    "def euroBinomPricerRecursive(S, K, r, v, q, T, n, callPayoff, verbose = True):\n",
    "    nodes = n  + 1\n",
    "    h = T / n\n",
    "    u = np.exp((r - q) * h + v * np.sqrt(h))\n",
    "    d = np.exp((r - q) * h - v * np.sqrt(h))\n",
    "    pu = (np.exp((r - q) * h) - d) / (u - d)\n",
    "    pd = 1.0 - pu\n",
    "    disc = np.exp(-r * h)\n",
    "    \n",
    "    \n",
    "    ## Arrays to store the spot prices and option values\n",
    "    Ct = np.empty(nodes)\n",
    "    St = np.empty(nodes)\n",
    "    \n",
    "    for i in range(nodes):\n",
    "        St[i] = S * (u ** (n - i)) * (d ** i)\n",
    "        Ct[i] = callPayoff(St[i], K)\n",
    "    \n",
    "    if verbose:\n",
    "        print(Ct)\n",
    "        \n",
    "    for t in range((n - 1), -1, -1):\n",
    "        for j in range(t+1):\n",
    "            Ct[j] = disc * (pu * Ct[j] + pd * Ct[j+1])\n",
    "            St[j] = St[j] / u\n",
    "            Ct[j] = np.maximum(Ct[j], St[j] - K)\n",
    "            print(Ct)\n",
    "            \n",
    "    return Ct[0]\n",
    "\n"
   ]
  },
  {
   "cell_type": "code",
   "execution_count": 53,
   "metadata": {},
   "outputs": [
    {
     "name": "stdout",
     "output_type": "stream",
     "text": [
      "[32.85671444 11.52589696  0.          0.        ]\n",
      "[20.71025347 11.52589696  0.          0.        ]\n",
      "[20.71025347  5.12655915  0.          0.        ]\n",
      "[20.71025347  5.12655915  0.          0.        ]\n",
      "[11.92306874  5.12655915  0.          0.        ]\n",
      "[11.92306874  2.28022243  0.          0.        ]\n",
      "[6.50922442 2.28022243 0.         0.        ]\n"
     ]
    },
    {
     "data": {
      "text/plain": [
       "6.50922441867353"
      ]
     },
     "execution_count": 53,
     "metadata": {},
     "output_type": "execute_result"
    }
   ],
   "source": [
    "callPrc = euroBinomPricerRecursive(S, K, r, v, q, T, n, callPayoff, verbose = True)\n",
    "callPrc"
   ]
  },
  {
   "cell_type": "code",
   "execution_count": 55,
   "metadata": {},
   "outputs": [],
   "source": [
    "#for american put \n",
    "def euroBinomPricerRecursive(S, K, r, v, q, T, n, putPayoff, verbose = True):\n",
    "    nodes = n  + 1\n",
    "    h = T / n\n",
    "    u = np.exp((r - q) * h + v * np.sqrt(h))\n",
    "    d = np.exp((r - q) * h - v * np.sqrt(h))\n",
    "    pu = (np.exp((r - q) * h) - d) / (u - d)\n",
    "    pd = 1.0 - pu\n",
    "    disc = np.exp(-r * h)\n",
    "    \n",
    "    \n",
    "    ## Arrays to store the spot prices and option values\n",
    "    Ct = np.empty(nodes)\n",
    "    St = np.empty(nodes)\n",
    "    \n",
    "    for i in range(nodes):\n",
    "        St[i] = S * (u ** (n - i)) * (d ** i)\n",
    "        Ct[i] = putPayoff(St[i], K)\n",
    "    \n",
    "    if verbose:\n",
    "        print(Ct)\n",
    "        \n",
    "    for t in range((n - 1), -1, -1):\n",
    "        for j in range(t+1):\n",
    "            Ct[j] = disc * (pu * Ct[j] + pd * Ct[j+1])\n",
    "            St[j] = St[j] / u\n",
    "            Ct[j] = np.maximum(Ct[j], K - St[j])\n",
    "            print(Ct)\n",
    "            \n",
    "    return Ct[0]\n"
   ]
  },
  {
   "cell_type": "code",
   "execution_count": 56,
   "metadata": {},
   "outputs": [
    {
     "name": "stdout",
     "output_type": "stream",
     "text": [
      "[32.85671444 11.52589696  0.          0.        ]\n",
      "[20.71025347 11.52589696  0.          0.        ]\n",
      "[20.71025347  5.12655915  0.          0.        ]\n",
      "[20.71025347  5.12655915 10.1614069   0.        ]\n",
      "[11.92306874  5.12655915 10.1614069   0.        ]\n",
      "[11.92306874  7.65458663 10.1614069   0.        ]\n",
      "[ 9.35172358  7.65458663 10.1614069   0.        ]\n"
     ]
    },
    {
     "data": {
      "text/plain": [
       "9.351723575638927"
      ]
     },
     "execution_count": 56,
     "metadata": {},
     "output_type": "execute_result"
    }
   ],
   "source": [
    "putPrc = euroBinomPricerRecursive(S, K, r, v, q, T, n, callPayoff, verbose = True)\n",
    "putPrc"
   ]
  },
  {
   "cell_type": "code",
   "execution_count": 59,
   "metadata": {},
   "outputs": [],
   "source": [
    "# for european call option\n",
    "from scipy.stats import binom\n",
    "def binomialPricer(S, K, r, v, q, T, n, callPayoff, verbose = True):\n",
    "    nodes = n  + 1\n",
    "    h = T / n\n",
    "    u = np.exp((r - q) * h + v * np.sqrt(h))\n",
    "    d = np.exp((r - q) * h - v * np.sqrt(h))\n",
    "    pstar = (np.exp((r - q) * h) - d) / (u - d)\n",
    "    \n",
    "    price = 0.0\n",
    "    \n",
    "    for i in range(nodes):\n",
    "        prob = binom.pmf(i, n, pstar)\n",
    "        spotT = S * (u ** i) * (d ** (n - i))\n",
    "        po = callPayoff(spotT, K) \n",
    "        price += po * prob\n",
    "        if verbose:\n",
    "            print(f\"({spotT:0.4f}, {po:0.4f}, {prob:0.4f})\")\n",
    "        \n",
    "    price *= np.exp(-r * T)\n",
    "    \n",
    "    return price"
   ]
  },
  {
   "cell_type": "code",
   "execution_count": 60,
   "metadata": {},
   "outputs": [
    {
     "name": "stdout",
     "output_type": "stream",
     "text": [
      "(25.7714, 0.0000, 0.1603)\n",
      "(36.4403, 0.0000, 0.4044)\n",
      "(51.5259, 11.5259, 0.3400)\n",
      "(72.8567, 32.8567, 0.0953)\n"
     ]
    },
    {
     "data": {
      "text/plain": [
       "6.50922441867353"
      ]
     },
     "execution_count": 60,
     "metadata": {},
     "output_type": "execute_result"
    }
   ],
   "source": [
    "binomialPricer(S, K, r, v, q, T, n, callPayoff)"
   ]
  },
  {
   "cell_type": "code",
   "execution_count": 61,
   "metadata": {},
   "outputs": [],
   "source": [
    "# for european put option\n",
    "def binomialPricer(S, K, r, v, q, T, n, putPayoff, verbose = True):\n",
    "    nodes = n  + 1\n",
    "    h = T / n\n",
    "    u = np.exp((r - q) * h + v * np.sqrt(h))\n",
    "    d = np.exp((r - q) * h - v * np.sqrt(h))\n",
    "    pstar = (np.exp((r - q) * h) - d) / (u - d)\n",
    "    \n",
    "    price = 0.0\n",
    "    \n",
    "    for i in range(nodes):\n",
    "        prob = binom.pmf(i, n, pstar)\n",
    "        spotT = S * (u ** i) * (d ** (n - i))\n",
    "        po = putPayoff(spotT, K) \n",
    "        price += po * prob\n",
    "        if verbose:\n",
    "            print(f\"({spotT:0.4f}, {po:0.4f}, {prob:0.4f})\")\n",
    "        \n",
    "    price *= np.exp(-r * T)\n",
    "    \n",
    "    return price"
   ]
  },
  {
   "cell_type": "code",
   "execution_count": 62,
   "metadata": {},
   "outputs": [
    {
     "name": "stdout",
     "output_type": "stream",
     "text": [
      "(25.7714, 14.2286, 0.1603)\n",
      "(36.4403, 3.5597, 0.4044)\n",
      "(51.5259, 0.0000, 0.3400)\n",
      "(72.8567, 0.0000, 0.0953)\n"
     ]
    },
    {
     "data": {
      "text/plain": [
       "3.433878274138968"
      ]
     },
     "execution_count": 62,
     "metadata": {},
     "output_type": "execute_result"
    }
   ],
   "source": [
    "binomialPricer(S, K, r, v, q, T, n, putPayoff)"
   ]
  },
  {
   "cell_type": "code",
   "execution_count": null,
   "metadata": {},
   "outputs": [],
   "source": []
  }
 ],
 "metadata": {
  "kernelspec": {
   "display_name": "Python 3",
   "language": "python",
   "name": "python3"
  },
  "language_info": {
   "codemirror_mode": {
    "name": "ipython",
    "version": 3
   },
   "file_extension": ".py",
   "mimetype": "text/x-python",
   "name": "python",
   "nbconvert_exporter": "python",
   "pygments_lexer": "ipython3",
   "version": "3.6.5"
  }
 },
 "nbformat": 4,
 "nbformat_minor": 2
}
