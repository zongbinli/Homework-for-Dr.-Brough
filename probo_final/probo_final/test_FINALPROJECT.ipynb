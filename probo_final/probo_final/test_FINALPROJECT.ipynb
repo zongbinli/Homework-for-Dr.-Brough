{
 "cells": [
  {
   "cell_type": "markdown",
   "metadata": {},
   "source": [
    "# Final Project Test File\n",
    "## Christopher Haddock and Zongbin Li"
   ]
  },
  {
   "cell_type": "code",
   "execution_count": 1,
   "metadata": {},
   "outputs": [
    {
     "name": "stdout",
     "output_type": "stream",
     "text": [
      "|----------------------------------------------------------------------|\n",
      "|----------------------------------------------------------------------|\n",
      "|                                 ||     Price    || Standard Error    |\n",
      "|---------------------------------||--------------||-------------------|\n",
      "| Asian Control Variate Call      ||   4.085      ||     0.003498      |\n",
      "|                                 ||              ||                   |\n",
      "| Asian Naive Call                ||   5.041      ||     0.072930      |\n",
      "|                                 ||              ||                   |\n",
      "|                                 ||              ||                   |\n",
      "|----------------------------------------------------------------------|\n",
      "|----------------------------------------------------------------------|\n"
     ]
    }
   ],
   "source": [
    "from probo.marketdata import MarketData\n",
    "from probo.payoff import VanillaPayoff, call_payoff, put_payoff\n",
    "from probo.engine import AsianMonteCarloEngine, AsianControlVariatePricerCall, NaiveAsianCall\n",
    "from probo.facade import OptionFacade\n",
    "\n",
    "\n",
    "## Set up the market data\n",
    "spot = 100.0\n",
    "rate = 0.06\n",
    "volatility = 0.2\n",
    "dividend = 0.03\n",
    "thedata = MarketData(rate, spot, volatility, dividend)\n",
    "\n",
    "## Set up the option\n",
    "expiry = 1.0\n",
    "strike = 100.0\n",
    "thecall = VanillaPayoff(expiry, strike, call_payoff)\n",
    "\n",
    "## Set up Asian Control Variate Pricer\n",
    "nreps = 10000\n",
    "steps = 10\n",
    "pricercontvar = AsianControlVariatePricerCall\n",
    "enginecontvar = AsianMonteCarloEngine(nreps, steps, pricercontvar)\n",
    "\n",
    "## Set up Naive Asian Pricer (nreps and nsteps are the same)\n",
    "\n",
    "pricernaive = NaiveAsianCall\n",
    "enginenaive = AsianMonteCarloEngine(nreps, steps, pricernaive)\n",
    "\n",
    "\n",
    "## Calculate the price\n",
    "option1 = OptionFacade(thecall, enginecontvar, thedata)\n",
    "price1,se1 = option1.price()\n",
    "\n",
    "option2 = OptionFacade(thecall, enginenaive, thedata)\n",
    "price2, se2 = option2.price()\n",
    "\n",
    "\n",
    "\n",
    "print(\"|----------------------------------------------------------------------|\")\n",
    "print(\"|----------------------------------------------------------------------|\")\n",
    "print(\"|                                 ||     Price    || Standard Error    |\")\n",
    "print(\"|---------------------------------||--------------||-------------------|\")\n",
    "print(\"| Asian Control Variate Call      ||   {0:.3f}\".format(price1),\"     ||\"    \"     {0:.6f}      |\".format(se1))\n",
    "print(\"|                                 ||              ||                   |\")\n",
    "print(\"| Asian Naive Call                ||   {0:.3f}\".format(price2),\"     ||\"    \"     {0:.6f}      |\".format(se2))\n",
    "print(\"|                                 ||              ||                   |\")\n",
    "print(\"|                                 ||              ||                   |\")\n",
    "print(\"|----------------------------------------------------------------------|\")\n",
    "print(\"|----------------------------------------------------------------------|\")\n"
   ]
  },
  {
   "cell_type": "code",
   "execution_count": null,
   "metadata": {},
   "outputs": [],
   "source": []
  }
 ],
 "metadata": {
  "kernelspec": {
   "display_name": "Python 3",
   "language": "python",
   "name": "python3"
  },
  "language_info": {
   "codemirror_mode": {
    "name": "ipython",
    "version": 3
   },
   "file_extension": ".py",
   "mimetype": "text/x-python",
   "name": "python",
   "nbconvert_exporter": "python",
   "pygments_lexer": "ipython3",
   "version": "3.6.5"
  }
 },
 "nbformat": 4,
 "nbformat_minor": 2
}
